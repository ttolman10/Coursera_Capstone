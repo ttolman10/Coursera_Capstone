{
 "cells": [
  {
   "cell_type": "markdown",
   "metadata": {},
   "source": [
    "The purpose of this notebook will be the Coursera Capstone project"
   ]
  },
  {
   "cell_type": "markdown",
   "metadata": {},
   "source": [
    "<h1>Choosing the Best Location<br>for a New Mexican Restaurant in the SLC, Utah Area</h1>"
   ]
  },
  {
   "cell_type": "markdown",
   "metadata": {},
   "source": [
    "<img src=\"SLC_image.jpg\" align=\"left\">"
   ]
  },
  {
   "cell_type": "markdown",
   "metadata": {},
   "source": [
    "<h2>Introduction</h2>"
   ]
  },
  {
   "cell_type": "markdown",
   "metadata": {},
   "source": [
    "<p>A potential client desires to know the best location to set up a Mexican restaurant in Salt Lake City, Utah, USA. The client had operated a very successful Mexican restaurant for over ten years in Miami, Florida, USA. Operating in the food business has been in his family for several generations. The client relocated to Utah because many members of his family have relocated to Salt Lake City. However, he is very unfamiliar with the demographics and competition for mexican food in the greater Salt Lake City area.</p>\n",
    "<p>The client wishes to learn which location in the city has the least competition for the greatest population. The client already knows that Mexican food is the third most popular type of cuisine in Utah, which is 50% higher than the national avereage<sup><a href=\"#fn1\" id=\"ref1\">1</a></sup>. This will be a family venue, so the potential location preferrably needs to be closer to an urban area.</p>"
   ]
  },
  {
   "cell_type": "markdown",
   "metadata": {},
   "source": [
    "<h2>Data</h2>\n",
    "<p>The Foursquare location data set will be used to analyze food venue locations and popularity. Population by zipcode data was gathered from the US Census Bureau<sup><a href=\"#fn2\" id=\"ref2\">2</a></sup>. Finding the best location for the Mexican restaurant will be discovered by analyzing these two data sets and comparing the most viable location (zipcode), which will be located farthest from its competition with the highest population."
   ]
  },
  {
   "cell_type": "markdown",
   "metadata": {},
   "source": [
    "<hr>\n",
    "<P><ul>Footnotes</ul><br>\n",
    "<sup id=\"fn1\">1. https://fox13now.com/2015/01/16/utahs-favorite-cuisine-is-what-most-disproportionately-popular-cuisine-by-state/<a href=\"#ref1\" title=\"Jump back to footnote 1 in the text.\">↩</a></sup><br>\n",
    "<sup id=\"fn2\">2. https://www.utah-demographics.com/cities_by_population<a href=\"#ref2\" title=\"Jump back to footnote 2 in the text.\">↩</a></sup>"
   ]
  },
  {
   "cell_type": "code",
   "execution_count": null,
   "metadata": {},
   "outputs": [],
   "source": []
  }
 ],
 "metadata": {
  "kernelspec": {
   "display_name": "Python 3",
   "language": "python",
   "name": "python3"
  },
  "language_info": {
   "codemirror_mode": {
    "name": "ipython",
    "version": 3
   },
   "file_extension": ".py",
   "mimetype": "text/x-python",
   "name": "python",
   "nbconvert_exporter": "python",
   "pygments_lexer": "ipython3",
   "version": "3.7.4"
  }
 },
 "nbformat": 4,
 "nbformat_minor": 2
}
